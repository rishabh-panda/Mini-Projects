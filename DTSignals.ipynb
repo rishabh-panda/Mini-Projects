{
  "nbformat": 4,
  "nbformat_minor": 0,
  "metadata": {
    "colab": {
      "name": "Discrete Time Signals.ipynb",
      "provenance": [],
      "collapsed_sections": []
    },
    "kernelspec": {
      "name": "python3",
      "display_name": "Python 3"
    }
  },
  "cells": [
    {
      "cell_type": "code",
      "metadata": {
        "colab": {
          "base_uri": "https://localhost:8080/",
          "height": 367
        },
        "id": "2bf2RB0-Uzdb",
        "outputId": "89b247f4-5329-44c3-bd29-cf2d166c08b9"
      },
      "source": [
        "#UNIT STEP SIGNAL\n",
        "import numpy as np \n",
        "import matplotlib.pyplot as plt  \n",
        "def unit_step(a, n): \n",
        "    unit =[] \n",
        "    for sample in n: \n",
        "        if sample<a: \n",
        "            unit.append(0) \n",
        "        else: \n",
        "            unit.append(1) \n",
        "    return(unit)  \n",
        "a = 2 \n",
        "UL = 10\n",
        "LL = -10\n",
        "n = np.arange(LL, UL, 1) \n",
        "unit = unit_step(a, n) \n",
        "plt.stem(n, unit) \n",
        "plt.xlabel('n') \n",
        "plt.xticks(np.arange(LL, UL, 1)) \n",
        "plt.yticks([0, 1]) \n",
        "plt.ylabel('u[n]') \n",
        "plt.title('Unit step u[n-a]') \n",
        "  \n"
      ],
      "execution_count": null,
      "outputs": [
        {
          "output_type": "stream",
          "text": [
            "/usr/local/lib/python3.7/dist-packages/ipykernel_launcher.py:16: UserWarning: In Matplotlib 3.3 individual lines on a stem plot will be added as a LineCollection instead of individual lines. This significantly improves the performance of a stem plot. To remove this warning and switch to the new behaviour, set the \"use_line_collection\" keyword argument to True.\n",
            "  app.launch_new_instance()\n"
          ],
          "name": "stderr"
        },
        {
          "output_type": "execute_result",
          "data": {
            "text/plain": [
              "Text(0.5, 1.0, 'Unit step u[n-a]')"
            ]
          },
          "metadata": {
            "tags": []
          },
          "execution_count": 10
        },
        {
          "output_type": "display_data",
          "data": {
            "image/png": "[encoded data removed]",
            "text/plain": [
              "<Figure size 432x288 with 1 Axes>"
            ]
          },
          "metadata": {
            "tags": [],
            "needs_background": "light"
          }
        }
      ]
    },
    {
      "cell_type": "code",
      "metadata": {
        "colab": {
          "base_uri": "https://localhost:8080/",
          "height": 350
        },
        "id": "uJCndQ_OWoJ6",
        "outputId": "dcf5941e-4ffe-42ca-b0e8-2aa789179a67"
      },
      "source": [
        "#UNIT IMPULSE SIGNAL\n",
        "import numpy as np \n",
        "import matplotlib.pyplot as plt    \n",
        "def unit_impulse(a, n): \n",
        "    delta =[] \n",
        "    for sample in n: \n",
        "        if sample == a: \n",
        "            delta.append(1) \n",
        "        else: \n",
        "            delta.append(0) \n",
        "              \n",
        "    return delta \n",
        "  \n",
        "a = 0 \n",
        "UL = 10\n",
        "LL = -10\n",
        "n = np.arange(LL, UL, 1) \n",
        "d = unit_impulse(a, n) \n",
        "plt.stem(n, d) \n",
        "plt.xlabel('n') \n",
        "plt.xticks(np.arange(LL, UL, 1)) \n",
        "plt.yticks([0, 1]) \n",
        "plt.ylabel('d[n]') \n",
        "plt.title('Unit Impulse d[4]')  "
      ],
      "execution_count": null,
      "outputs": [
        {
          "output_type": "stream",
          "text": [
            "/usr/local/lib/python3.7/dist-packages/ipykernel_launcher.py:19: UserWarning: In Matplotlib 3.3 individual lines on a stem plot will be added as a LineCollection instead of individual lines. This significantly improves the performance of a stem plot. To remove this warning and switch to the new behaviour, set the \"use_line_collection\" keyword argument to True.\n"
          ],
          "name": "stderr"
        },
        {
          "output_type": "execute_result",
          "data": {
            "text/plain": [
              "Text(0.5, 1.0, 'Unit Impulse d[4]')"
            ]
          },
          "metadata": {
            "tags": []
          },
          "execution_count": 13
        },
        {
          "output_type": "display_data",
          "data": {
            "image/png": "[encoded data removed]",
            "text/plain": [
              "<Figure size 432x288 with 1 Axes>"
            ]
          },
          "metadata": {
            "tags": [],
            "needs_background": "light"
          }
        }
      ]
    },
    {
      "cell_type": "code",
      "metadata": {
        "colab": {
          "base_uri": "https://localhost:8080/",
          "height": 350
        },
        "id": "DoBr85yYXMAB",
        "outputId": "23ca7929-5282-4dce-e9a3-19b1959411bd"
      },
      "source": [
        "#RAMP SIGNAL\n",
        "import numpy as np \n",
        "import matplotlib.pyplot as plt \n",
        "def unit_ramp(n): \n",
        "    ramp =[] \n",
        "    for sample in n: \n",
        "        if sample<0: \n",
        "            ramp.append(0) \n",
        "        else: \n",
        "            ramp.append(sample) \n",
        "    return ramp \n",
        "  \n",
        "UL = 10\n",
        "LL = -10\n",
        "n = np.arange(LL, UL, 1) \n",
        "r = unit_ramp(n) \n",
        "plt.stem(n, r) \n",
        "plt.xlabel('n') \n",
        "plt.xticks(np.arange(LL, UL, 1)) \n",
        "plt.yticks([0, UL, 1]) \n",
        "plt.ylabel('r[n]') \n",
        "plt.title('Unit Ramp r[n]') "
      ],
      "execution_count": null,
      "outputs": [
        {
          "output_type": "stream",
          "text": [
            "/usr/local/lib/python3.7/dist-packages/ipykernel_launcher.py:17: UserWarning: In Matplotlib 3.3 individual lines on a stem plot will be added as a LineCollection instead of individual lines. This significantly improves the performance of a stem plot. To remove this warning and switch to the new behaviour, set the \"use_line_collection\" keyword argument to True.\n"
          ],
          "name": "stderr"
        },
        {
          "output_type": "execute_result",
          "data": {
            "text/plain": [
              "Text(0.5, 1.0, 'Unit Ramp r[n]')"
            ]
          },
          "metadata": {
            "tags": []
          },
          "execution_count": 26
        },
        {
          "output_type": "display_data",
          "data": {
            "image/png": "[encoded data removed]",
            "text/plain": [
              "<Figure size 432x288 with 1 Axes>"
            ]
          },
          "metadata": {
            "tags": [],
            "needs_background": "light"
          }
        }
      ]
    }
  ]
}