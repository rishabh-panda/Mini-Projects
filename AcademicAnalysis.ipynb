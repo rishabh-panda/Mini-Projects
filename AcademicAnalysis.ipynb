{
  "nbformat": 4,
  "nbformat_minor": 0,
  "metadata": {
    "colab": {
      "name": "Simulation Lab (Open End Project-1).ipynb",
      "provenance": [],
      "collapsed_sections": []
    },
    "kernelspec": {
      "name": "python3",
      "display_name": "Python 3"
    }
  },
  "cells": [
    {
      "cell_type": "markdown",
      "metadata": {
        "id": "Yt6wtc1lGu4l"
      },
      "source": [
        "> **(A) Aim: Analysis of marks obtained by 5 students.**\n",
        "\n",
        "> **(B) Theory:** Matplotlib is a comprehensive library for creating static, animated, and interactive visualizations in Python.\n",
        "\n",
        "> **NumPy** is a library for the Python programming language, adding support for large, multi-dimensional arrays and matrices, along with a large collection of high-level mathematical functions to operate on these arrays.\n",
        "\n",
        "> **Pandas** is a software library written for the Python programming language for data manipulation and analysis."
      ]
    },
    {
      "cell_type": "code",
      "metadata": {
        "colab": {
          "base_uri": "https://localhost:8080/"
        },
        "id": "hACgZDz4GsEI",
        "outputId": "a54494ae-01fd-4ebe-dd05-f131ed1dbb8f"
      },
      "source": [
        "#Data denotes the score obtained by my classmates\n",
        "data = [14.5,18.0,16.0,20.0,15.0]\n",
        "print(data)"
      ],
      "execution_count": 1,
      "outputs": [
        {
          "output_type": "stream",
          "text": [
            "[14.5, 18.0, 16.0, 20.0, 15.0]\n"
          ],
          "name": "stdout"
        }
      ]
    },
    {
      "cell_type": "code",
      "metadata": {
        "colab": {
          "base_uri": "https://localhost:8080/"
        },
        "id": "CG0ZLexhw0Rf",
        "outputId": "8c0bbdb7-3f9d-4397-f1c8-e242c124b637"
      },
      "source": [
        "# \"score\" denotes the score obtained by a student in Mid-Semester Examination\n",
        "import numpy as np\n",
        "score = np.array(data)\n",
        "print(score)"
      ],
      "execution_count": 3,
      "outputs": [
        {
          "output_type": "stream",
          "text": [
            "[14.5 18.  16.  20.  15. ]\n"
          ],
          "name": "stdout"
        }
      ]
    },
    {
      "cell_type": "code",
      "metadata": {
        "colab": {
          "base_uri": "https://localhost:8080/"
        },
        "id": "lJ9AJQWYxjpj",
        "outputId": "57103131-a961-4cd4-b51c-0003fdc70ac1"
      },
      "source": [
        "# Calculating the mean\n",
        "score.mean()"
      ],
      "execution_count": 6,
      "outputs": [
        {
          "output_type": "execute_result",
          "data": {
            "text/plain": [
              "16.7"
            ]
          },
          "metadata": {},
          "execution_count": 6
        }
      ]
    },
    {
      "cell_type": "code",
      "metadata": {
        "colab": {
          "base_uri": "https://localhost:8080/"
        },
        "id": "4gGjIogIxsRX",
        "outputId": "643453cd-b72f-443c-d673-be20655a6bd0"
      },
      "source": [
        "# Define an array of study hours\n",
        "study_hours = [10.0,11.5,9.0,12.0,9.25]\n",
        "\n",
        "# Create a 2D array \n",
        "student_data = np.array([study_hours, score])\n",
        "\n",
        "# display the array\n",
        "student_data"
      ],
      "execution_count": 7,
      "outputs": [
        {
          "output_type": "execute_result",
          "data": {
            "text/plain": [
              "array([[10.  , 11.5 ,  9.  , 12.  ,  9.25],\n",
              "       [14.5 , 18.  , 16.  , 20.  , 15.  ]])"
            ]
          },
          "metadata": {},
          "execution_count": 7
        }
      ]
    },
    {
      "cell_type": "code",
      "metadata": {
        "colab": {
          "base_uri": "https://localhost:8080/"
        },
        "id": "uBtJwNpEyOq7",
        "outputId": "24a99a80-b412-4ea0-e4a0-4f48793524ff"
      },
      "source": [
        "# Show shape of 2D array\n",
        "student_data.shape"
      ],
      "execution_count": 8,
      "outputs": [
        {
          "output_type": "execute_result",
          "data": {
            "text/plain": [
              "(2, 5)"
            ]
          },
          "metadata": {},
          "execution_count": 8
        }
      ]
    },
    {
      "cell_type": "code",
      "metadata": {
        "colab": {
          "base_uri": "https://localhost:8080/",
          "height": 204
        },
        "id": "mAp47r-SyT6e",
        "outputId": "e491b337-4c48-4df2-b80a-b671e377ff8f"
      },
      "source": [
        "import pandas as pd\n",
        "\n",
        "df_students = pd.DataFrame({'Name': ['Sahil', 'Rishabh', 'Vibhav', 'Parth', 'Aman'],\n",
        "                            'Hours':student_data[0],\n",
        "                            'Grade':student_data[1]})\n",
        "df_students"
      ],
      "execution_count": 10,
      "outputs": [
        {
          "output_type": "execute_result",
          "data": {
            "text/html": [
              "<div>\n",
              "<style scoped>\n",
              "    .dataframe tbody tr th:only-of-type {\n",
              "        vertical-align: middle;\n",
              "    }\n",
              "\n",
              "    .dataframe tbody tr th {\n",
              "        vertical-align: top;\n",
              "    }\n",
              "\n",
              "    .dataframe thead th {\n",
              "        text-align: right;\n",
              "    }\n",
              "</style>\n",
              "<table border=\"1\" class=\"dataframe\">\n",
              "  <thead>\n",
              "    <tr style=\"text-align: right;\">\n",
              "      <th></th>\n",
              "      <th>Name</th>\n",
              "      <th>Hours</th>\n",
              "      <th>Grade</th>\n",
              "    </tr>\n",
              "  </thead>\n",
              "  <tbody>\n",
              "    <tr>\n",
              "      <th>0</th>\n",
              "      <td>Sahil</td>\n",
              "      <td>10.00</td>\n",
              "      <td>14.5</td>\n",
              "    </tr>\n",
              "    <tr>\n",
              "      <th>1</th>\n",
              "      <td>Rishabh</td>\n",
              "      <td>11.50</td>\n",
              "      <td>18.0</td>\n",
              "    </tr>\n",
              "    <tr>\n",
              "      <th>2</th>\n",
              "      <td>Vibhav</td>\n",
              "      <td>9.00</td>\n",
              "      <td>16.0</td>\n",
              "    </tr>\n",
              "    <tr>\n",
              "      <th>3</th>\n",
              "      <td>Parth</td>\n",
              "      <td>12.00</td>\n",
              "      <td>20.0</td>\n",
              "    </tr>\n",
              "    <tr>\n",
              "      <th>4</th>\n",
              "      <td>Aman</td>\n",
              "      <td>9.25</td>\n",
              "      <td>15.0</td>\n",
              "    </tr>\n",
              "  </tbody>\n",
              "</table>\n",
              "</div>"
            ],
            "text/plain": [
              "      Name  Hours  Grade\n",
              "0    Sahil  10.00   14.5\n",
              "1  Rishabh  11.50   18.0\n",
              "2   Vibhav   9.00   16.0\n",
              "3    Parth  12.00   20.0\n",
              "4     Aman   9.25   15.0"
            ]
          },
          "metadata": {},
          "execution_count": 10
        }
      ]
    },
    {
      "cell_type": "code",
      "metadata": {
        "colab": {
          "base_uri": "https://localhost:8080/",
          "height": 300
        },
        "id": "Q13mzaPYzv3x",
        "outputId": "bcab8a51-e50f-4ac9-8807-a6bd5a449b17"
      },
      "source": [
        "from matplotlib import pyplot as plt\n",
        "\n",
        "plt.title(\"Mid Semester Score Data (Section: ETC-3)\",fontsize=15)\n",
        "plt.xlabel(\"Student Name\",fontsize=12)\n",
        "plt.ylabel(\"Marks Obtained\",fontsize=12)\n",
        "# Create a bar plot of name vs grade\n",
        "plt.bar(x=df_students.Name, height=df_students.Grade)\n",
        "\n",
        "# Display the plot\n",
        "plt.show()"
      ],
      "execution_count": 11,
      "outputs": [
        {
          "output_type": "display_data",
          "data": {
            "image/png": "[encoded data removed]",
            "text/plain": [
              "<Figure size 432x288 with 1 Axes>"
            ]
          },
          "metadata": {
            "needs_background": "light"
          }
        }
      ]
    },
    {
      "cell_type": "markdown",
      "metadata": {
        "id": "Tj5c-Pm3SdQ3"
      },
      "source": [
        "> **Conclusion** : Parth topped the mid semester examinations with an outstanding score of 20 followed by Rishabh, Vibhav, Aman and Sahil. Sahil needs to improve his academics by revising the concepts on a regular basis."
      ]
    }
  ]
}